{
 "cells": [
  {
   "cell_type": "code",
   "execution_count": 357,
   "metadata": {},
   "outputs": [],
   "source": [
    "import pandas as pd\n",
    "import os\n",
    "import datetime as dt"
   ]
  },
  {
   "cell_type": "code",
   "execution_count": 358,
   "metadata": {},
   "outputs": [],
   "source": [
    "filepath = 'data'"
   ]
  },
  {
   "cell_type": "markdown",
   "metadata": {},
   "source": [
    "## Creating Test Data"
   ]
  },
  {
   "cell_type": "code",
   "execution_count": 359,
   "metadata": {},
   "outputs": [
    {
     "data": {
      "text/plain": [
       "'2024-02-17 17:34:41'"
      ]
     },
     "execution_count": 359,
     "metadata": {},
     "output_type": "execute_result"
    }
   ],
   "source": [
    "current_date = dt.datetime.now().strftime('%Y-%m-%d %H:%M:%S')\n",
    "current_date"
   ]
  },
  {
   "cell_type": "code",
   "execution_count": 360,
   "metadata": {},
   "outputs": [],
   "source": [
    "current_date = dt.datetime.now()"
   ]
  },
  {
   "cell_type": "code",
   "execution_count": 361,
   "metadata": {},
   "outputs": [
    {
     "name": "stdout",
     "output_type": "stream",
     "text": [
      "['2024-02-17_17-34-41', '2024-02-18_17-34-41', '2024-02-19_17-34-41', '2024-02-20_17-34-41', '2024-02-21_17-34-41', '2024-02-22_17-34-41', '2024-02-23_17-34-41']\n"
     ]
    }
   ],
   "source": [
    "\n",
    "date_list = []\n",
    "\n",
    "for i in range(7):\n",
    "    date_string = current_date.strftime('%Y-%m-%d_%H-%M-%S')\n",
    "    date_list.append(date_string)\n",
    "    current_date += dt.timedelta(days=1)\n",
    "\n",
    "print(date_list)"
   ]
  },
  {
   "cell_type": "code",
   "execution_count": 362,
   "metadata": {},
   "outputs": [],
   "source": [
    "name_str = 'Sales_Data'\n",
    "new_list = [name_str + '_' + date for date in date_list]"
   ]
  },
  {
   "cell_type": "code",
   "execution_count": 363,
   "metadata": {},
   "outputs": [
    {
     "data": {
      "text/plain": [
       "['Sales_Data_2024-02-17_17-34-41',\n",
       " 'Sales_Data_2024-02-18_17-34-41',\n",
       " 'Sales_Data_2024-02-19_17-34-41',\n",
       " 'Sales_Data_2024-02-20_17-34-41',\n",
       " 'Sales_Data_2024-02-21_17-34-41',\n",
       " 'Sales_Data_2024-02-22_17-34-41',\n",
       " 'Sales_Data_2024-02-23_17-34-41']"
      ]
     },
     "execution_count": 363,
     "metadata": {},
     "output_type": "execute_result"
    }
   ],
   "source": [
    "new_list"
   ]
  },
  {
   "cell_type": "code",
   "execution_count": 364,
   "metadata": {},
   "outputs": [],
   "source": [
    "json_data =[\n",
    "  {\n",
    "    \"product\": \"Widget A\",\n",
    "    \"quantity\": 100,\n",
    "    \"price_per_unit\": 10.50,\n",
    "    \"total_sales\": 1050.00\n",
    "  },\n",
    "  {\n",
    "    \"product\": \"Widget B\",\n",
    "    \"quantity\": 50,\n",
    "    \"price_per_unit\": 25.75,\n",
    "    \"total_sales\": 1287.50\n",
    "  },\n",
    "  {\n",
    "    \"product\": \"Widget C\",\n",
    "    \"quantity\": 75,\n",
    "    \"price_per_unit\": 15.00,\n",
    "    \"total_sales\": 1125.00\n",
    "  },\n",
    "  {\n",
    "    \"product\": \"Widget D\",\n",
    "    \"quantity\": 30,\n",
    "    \"price_per_unit\": 50.00,\n",
    "    \"total_sales\": 1500.00\n",
    "  },\n",
    "  {\n",
    "    \"product\": \"Widget E\",\n",
    "    \"quantity\": 20,\n",
    "    \"price_per_unit\": 40.25,\n",
    "    \"total_sales\": 805.00\n",
    "  },\n",
    "  {\n",
    "    \"product\": \"Widget F\",\n",
    "    \"quantity\": 60,\n",
    "    \"price_per_unit\": 18.99,\n",
    "    \"total_sales\": 1139.40\n",
    "  },\n",
    "  {\n",
    "    \"product\": \"Widget G\",\n",
    "    \"quantity\": 45,\n",
    "    \"price_per_unit\": 30.00,\n",
    "    \"total_sales\": 1350.00\n",
    "  }\n",
    "]\n",
    "\n"
   ]
  },
  {
   "cell_type": "code",
   "execution_count": 365,
   "metadata": {},
   "outputs": [
    {
     "data": {
      "text/plain": [
       "{'product': 'Widget A',\n",
       " 'quantity': 100,\n",
       " 'price_per_unit': 10.5,\n",
       " 'total_sales': 1050.0}"
      ]
     },
     "execution_count": 365,
     "metadata": {},
     "output_type": "execute_result"
    }
   ],
   "source": [
    "json_data[0]"
   ]
  },
  {
   "cell_type": "code",
   "execution_count": 366,
   "metadata": {},
   "outputs": [],
   "source": [
    "import csv\n",
    "for i in range(len(new_list)):\n",
    "    filename = os.path.splitext(new_list[i])[0] + \".csv\"\n",
    "    with open(os.path.join(filepath, filename), 'w', newline='') as f:\n",
    "        writer = csv.DictWriter(f, fieldnames=[\"product\", \"quantity\", \"price_per_unit\", \"total_sales\"])\n",
    "        writer.writeheader()\n",
    "        writer.writerow(json_data[i])\n"
   ]
  },
  {
   "cell_type": "markdown",
   "metadata": {},
   "source": [
    "## Once Data Files are created we now need to make the function to read all these files into a table"
   ]
  },
  {
   "cell_type": "code",
   "execution_count": 367,
   "metadata": {},
   "outputs": [],
   "source": [
    "dir_files = [f for f in os.listdir(filepath)]"
   ]
  },
  {
   "cell_type": "code",
   "execution_count": 368,
   "metadata": {},
   "outputs": [
    {
     "data": {
      "text/plain": [
       "['hello.txt',\n",
       " 'hi.txt',\n",
       " 'Sales_Data_2024-02-17_17-34-41.csv',\n",
       " 'Sales_Data_2024-02-18_17-34-41.csv',\n",
       " 'Sales_Data_2024-02-19_17-34-41.csv',\n",
       " 'Sales_Data_2024-02-20_17-34-41.csv',\n",
       " 'Sales_Data_2024-02-21_17-34-41.csv',\n",
       " 'Sales_Data_2024-02-22_17-34-41.csv',\n",
       " 'Sales_Data_2024-02-23_17-34-41.csv']"
      ]
     },
     "execution_count": 368,
     "metadata": {},
     "output_type": "execute_result"
    }
   ],
   "source": [
    "dir_files"
   ]
  },
  {
   "cell_type": "code",
   "execution_count": 369,
   "metadata": {},
   "outputs": [],
   "source": [
    "files_to_read = [f for f in os.listdir(filepath) if f.startswith('Sales_Data')]"
   ]
  },
  {
   "cell_type": "code",
   "execution_count": 370,
   "metadata": {},
   "outputs": [
    {
     "data": {
      "text/plain": [
       "['Sales_Data_2024-02-17_17-34-41.csv',\n",
       " 'Sales_Data_2024-02-18_17-34-41.csv',\n",
       " 'Sales_Data_2024-02-19_17-34-41.csv',\n",
       " 'Sales_Data_2024-02-20_17-34-41.csv',\n",
       " 'Sales_Data_2024-02-21_17-34-41.csv',\n",
       " 'Sales_Data_2024-02-22_17-34-41.csv',\n",
       " 'Sales_Data_2024-02-23_17-34-41.csv']"
      ]
     },
     "execution_count": 370,
     "metadata": {},
     "output_type": "execute_result"
    }
   ],
   "source": [
    "files_to_read"
   ]
  },
  {
   "cell_type": "code",
   "execution_count": null,
   "metadata": {},
   "outputs": [],
   "source": []
  },
  {
   "cell_type": "code",
   "execution_count": 371,
   "metadata": {},
   "outputs": [],
   "source": [
    "df = pd.DataFrame()\n"
   ]
  },
  {
   "cell_type": "code",
   "execution_count": 372,
   "metadata": {},
   "outputs": [
    {
     "data": {
      "text/plain": [
       "pandas.core.frame.DataFrame"
      ]
     },
     "execution_count": 372,
     "metadata": {},
     "output_type": "execute_result"
    }
   ],
   "source": [
    "type(df)"
   ]
  },
  {
   "cell_type": "code",
   "execution_count": 373,
   "metadata": {},
   "outputs": [
    {
     "data": {
      "text/plain": [
       "'2024-02-17'"
      ]
     },
     "execution_count": 373,
     "metadata": {},
     "output_type": "execute_result"
    }
   ],
   "source": [
    "files_to_read[0].split('_')[2]"
   ]
  },
  {
   "cell_type": "code",
   "execution_count": 374,
   "metadata": {},
   "outputs": [],
   "source": [
    "def into_table(filepath: str, distinct: set, initial_df: pd.DataFrame) -> pd.DataFrame:\n",
    "    try:\n",
    "        files_to_read = [f for f in os.listdir(filepath) if f.startswith('Sales_Data')]\n",
    "        for file in files_to_read:\n",
    "            date = file.split('_')[2]\n",
    "            if date not in distinct:\n",
    "                df = pd.read_csv(os.path.join(filepath, file))\n",
    "                df['Date'] = date\n",
    "                initial_df = pd.concat([initial_df, df], ignore_index=True)\n",
    "                distinct.add(date)\n",
    "            else:\n",
    "                \n",
    "                initial_df = initial_df[~initial_df['Date'].str.startswith(date)]\n",
    "                df = pd.read_csv(os.path.join(filepath, file))\n",
    "                df['Date'] = date\n",
    "                initial_df = pd.concat([initial_df, df], ignore_index=True)\n",
    "        \n",
    "        return initial_df\n",
    "    except Exception as e:\n",
    "        print(\"An error occurred:\", e)\n",
    "        return initial_df\n"
   ]
  },
  {
   "cell_type": "code",
   "execution_count": 375,
   "metadata": {},
   "outputs": [],
   "source": [
    "distinct = set()\n",
    "initial_df = pd.DataFrame()\n",
    "df = into_table(filepath,distinct,initial_df)"
   ]
  },
  {
   "cell_type": "code",
   "execution_count": 376,
   "metadata": {},
   "outputs": [
    {
     "data": {
      "text/html": [
       "<div>\n",
       "<style scoped>\n",
       "    .dataframe tbody tr th:only-of-type {\n",
       "        vertical-align: middle;\n",
       "    }\n",
       "\n",
       "    .dataframe tbody tr th {\n",
       "        vertical-align: top;\n",
       "    }\n",
       "\n",
       "    .dataframe thead th {\n",
       "        text-align: right;\n",
       "    }\n",
       "</style>\n",
       "<table border=\"1\" class=\"dataframe\">\n",
       "  <thead>\n",
       "    <tr style=\"text-align: right;\">\n",
       "      <th></th>\n",
       "      <th>product</th>\n",
       "      <th>quantity</th>\n",
       "      <th>price_per_unit</th>\n",
       "      <th>total_sales</th>\n",
       "      <th>Date</th>\n",
       "    </tr>\n",
       "  </thead>\n",
       "  <tbody>\n",
       "    <tr>\n",
       "      <th>0</th>\n",
       "      <td>Widget A</td>\n",
       "      <td>100</td>\n",
       "      <td>10.50</td>\n",
       "      <td>1050.0</td>\n",
       "      <td>2024-02-17</td>\n",
       "    </tr>\n",
       "    <tr>\n",
       "      <th>1</th>\n",
       "      <td>Widget B</td>\n",
       "      <td>50</td>\n",
       "      <td>25.75</td>\n",
       "      <td>1287.5</td>\n",
       "      <td>2024-02-18</td>\n",
       "    </tr>\n",
       "    <tr>\n",
       "      <th>2</th>\n",
       "      <td>Widget C</td>\n",
       "      <td>75</td>\n",
       "      <td>15.00</td>\n",
       "      <td>1125.0</td>\n",
       "      <td>2024-02-19</td>\n",
       "    </tr>\n",
       "    <tr>\n",
       "      <th>3</th>\n",
       "      <td>Widget D</td>\n",
       "      <td>30</td>\n",
       "      <td>50.00</td>\n",
       "      <td>1500.0</td>\n",
       "      <td>2024-02-20</td>\n",
       "    </tr>\n",
       "    <tr>\n",
       "      <th>4</th>\n",
       "      <td>Widget E</td>\n",
       "      <td>20</td>\n",
       "      <td>40.25</td>\n",
       "      <td>805.0</td>\n",
       "      <td>2024-02-21</td>\n",
       "    </tr>\n",
       "    <tr>\n",
       "      <th>5</th>\n",
       "      <td>Widget F</td>\n",
       "      <td>60</td>\n",
       "      <td>18.99</td>\n",
       "      <td>1139.4</td>\n",
       "      <td>2024-02-22</td>\n",
       "    </tr>\n",
       "    <tr>\n",
       "      <th>6</th>\n",
       "      <td>Widget G</td>\n",
       "      <td>45</td>\n",
       "      <td>30.00</td>\n",
       "      <td>1350.0</td>\n",
       "      <td>2024-02-23</td>\n",
       "    </tr>\n",
       "  </tbody>\n",
       "</table>\n",
       "</div>"
      ],
      "text/plain": [
       "    product  quantity  price_per_unit  total_sales        Date\n",
       "0  Widget A       100           10.50       1050.0  2024-02-17\n",
       "1  Widget B        50           25.75       1287.5  2024-02-18\n",
       "2  Widget C        75           15.00       1125.0  2024-02-19\n",
       "3  Widget D        30           50.00       1500.0  2024-02-20\n",
       "4  Widget E        20           40.25        805.0  2024-02-21\n",
       "5  Widget F        60           18.99       1139.4  2024-02-22\n",
       "6  Widget G        45           30.00       1350.0  2024-02-23"
      ]
     },
     "execution_count": 376,
     "metadata": {},
     "output_type": "execute_result"
    }
   ],
   "source": [
    "df.reset_index(inplace=True,drop=True)\n",
    "df"
   ]
  },
  {
   "cell_type": "code",
   "execution_count": null,
   "metadata": {},
   "outputs": [],
   "source": []
  },
  {
   "cell_type": "markdown",
   "metadata": {},
   "source": [
    "#### If the name doesnt exists the function will do the following steps :\n",
    "####    1. It will read the file from the filepath using pandas.read_csv\n",
    "####    2. It will then add a new column named date to extract the date from the file name to the dataframe\n",
    "####    3. It will concatinate the initial df which is empty to the df we just read\n",
    "####    4. It will then enter the date  into the set 'distinct' and return the updated df with added date column\n",
    "#### However if the name exists it will do the following : \n",
    "####    1. Delete the old records of the date\n",
    "####    2. Read the file again \n",
    "####    3. Add the date column again\n",
    "####    4. Append the data to the initial df once again and return the initial df\n",
    "\n",
    "#### This would suffice both the conditions provided i.e. :\n",
    "####    1.The code should only process files that were not read during the last execution\n",
    "####    2.Include a mechanism to reprocess previously executed files, deleting their records and reloading them\n",
    "\n",
    "#### However the function would delete the data without checking if it is modified or not for that we can use the time constraints as well and add it as a column"
   ]
  },
  {
   "cell_type": "code",
   "execution_count": 377,
   "metadata": {},
   "outputs": [
    {
     "data": {
      "text/plain": [
       "'2024-02-17_17:34:41'"
      ]
     },
     "execution_count": 377,
     "metadata": {},
     "output_type": "execute_result"
    }
   ],
   "source": [
    "time = (files_to_read[0].split('_')[3].split('.')[0])\n",
    "formatted_time =  dt.datetime.strptime(time, '%H-%M-%S').strftime('%H:%M:%S')\n",
    "datetime = files_to_read[0].split('_')[2]+'_'+formatted_time\n",
    "datetime"
   ]
  },
  {
   "cell_type": "code",
   "execution_count": 378,
   "metadata": {},
   "outputs": [
    {
     "name": "stdout",
     "output_type": "stream",
     "text": [
      "True\n"
     ]
    }
   ],
   "source": [
    "time_string = '15-54-00'\n",
    "time_obj = dt.datetime.strptime(time_string, '%H-%M-%S')\n",
    "formatted_time = time_obj.strftime('%H:%M:%S')\n",
    "formatted_time\n",
    "time_string1 = '15-55-00'\n",
    "time_obj1 = dt.datetime.strptime(time_string1, '%H-%M-%S')\n",
    "formatted_time1 = time_obj1.strftime('%H:%M:%S')\n",
    "\n",
    "print(formatted_time1 > formatted_time)"
   ]
  },
  {
   "cell_type": "code",
   "execution_count": 379,
   "metadata": {},
   "outputs": [],
   "source": [
    "def into_table_modified(filepath: str, distinct: set, initial_df: pd.DataFrame) -> pd.DataFrame:\n",
    "    try:\n",
    "        files_to_read = [f for f in os.listdir(filepath) if f.startswith('Sales_Data')]\n",
    "        for file in files_to_read:\n",
    "            date = file.split('_')[2]\n",
    "            time = file.split('_')[3].split('.')[0]\n",
    "            formatted_time = dt.datetime.strptime(time, '%H-%M-%S').strftime('%H:%M:%S')\n",
    "            if date not in distinct:\n",
    "                df = pd.read_csv(os.path.join(filepath, file))\n",
    "                df['Date'] = date\n",
    "                df['Time Stamp'] = formatted_time\n",
    "                initial_df = pd.concat([initial_df, df], ignore_index=True)\n",
    "                distinct.add(date)\n",
    "            else:\n",
    "                max_time_for_date = initial_df.loc[initial_df['Date'] == date, 'Time Stamp'].max()\n",
    "                if formatted_time > max_time_for_date:\n",
    "                    initial_df = initial_df[~initial_df['Date'].str.startswith(date)]\n",
    "                    df = pd.read_csv(os.path.join(filepath, file))\n",
    "                    df['Date'] = date\n",
    "                    df['Time Stamp'] = formatted_time\n",
    "                    initial_df = pd.concat([initial_df, df], ignore_index=True)\n",
    "        \n",
    "        return initial_df\n",
    "    except Exception as e:\n",
    "        print(\"An error occurred:\", e)\n",
    "        return initial_df"
   ]
  },
  {
   "cell_type": "code",
   "execution_count": 380,
   "metadata": {},
   "outputs": [],
   "source": [
    "distinct = set()"
   ]
  },
  {
   "cell_type": "code",
   "execution_count": 381,
   "metadata": {},
   "outputs": [],
   "source": [
    "initial_df = pd.DataFrame()"
   ]
  },
  {
   "cell_type": "code",
   "execution_count": 382,
   "metadata": {},
   "outputs": [],
   "source": [
    "df_new = into_table_modified(filepath,distinct,initial_df)"
   ]
  },
  {
   "cell_type": "code",
   "execution_count": 383,
   "metadata": {},
   "outputs": [
    {
     "data": {
      "text/html": [
       "<div>\n",
       "<style scoped>\n",
       "    .dataframe tbody tr th:only-of-type {\n",
       "        vertical-align: middle;\n",
       "    }\n",
       "\n",
       "    .dataframe tbody tr th {\n",
       "        vertical-align: top;\n",
       "    }\n",
       "\n",
       "    .dataframe thead th {\n",
       "        text-align: right;\n",
       "    }\n",
       "</style>\n",
       "<table border=\"1\" class=\"dataframe\">\n",
       "  <thead>\n",
       "    <tr style=\"text-align: right;\">\n",
       "      <th></th>\n",
       "      <th>product</th>\n",
       "      <th>quantity</th>\n",
       "      <th>price_per_unit</th>\n",
       "      <th>total_sales</th>\n",
       "      <th>Date</th>\n",
       "      <th>Time Stamp</th>\n",
       "    </tr>\n",
       "  </thead>\n",
       "  <tbody>\n",
       "    <tr>\n",
       "      <th>0</th>\n",
       "      <td>Widget A</td>\n",
       "      <td>100</td>\n",
       "      <td>10.50</td>\n",
       "      <td>1050.0</td>\n",
       "      <td>2024-02-17</td>\n",
       "      <td>17:34:41</td>\n",
       "    </tr>\n",
       "    <tr>\n",
       "      <th>1</th>\n",
       "      <td>Widget B</td>\n",
       "      <td>50</td>\n",
       "      <td>25.75</td>\n",
       "      <td>1287.5</td>\n",
       "      <td>2024-02-18</td>\n",
       "      <td>17:34:41</td>\n",
       "    </tr>\n",
       "    <tr>\n",
       "      <th>2</th>\n",
       "      <td>Widget C</td>\n",
       "      <td>75</td>\n",
       "      <td>15.00</td>\n",
       "      <td>1125.0</td>\n",
       "      <td>2024-02-19</td>\n",
       "      <td>17:34:41</td>\n",
       "    </tr>\n",
       "    <tr>\n",
       "      <th>3</th>\n",
       "      <td>Widget D</td>\n",
       "      <td>30</td>\n",
       "      <td>50.00</td>\n",
       "      <td>1500.0</td>\n",
       "      <td>2024-02-20</td>\n",
       "      <td>17:34:41</td>\n",
       "    </tr>\n",
       "    <tr>\n",
       "      <th>4</th>\n",
       "      <td>Widget E</td>\n",
       "      <td>20</td>\n",
       "      <td>40.25</td>\n",
       "      <td>805.0</td>\n",
       "      <td>2024-02-21</td>\n",
       "      <td>17:34:41</td>\n",
       "    </tr>\n",
       "    <tr>\n",
       "      <th>5</th>\n",
       "      <td>Widget F</td>\n",
       "      <td>60</td>\n",
       "      <td>18.99</td>\n",
       "      <td>1139.4</td>\n",
       "      <td>2024-02-22</td>\n",
       "      <td>17:34:41</td>\n",
       "    </tr>\n",
       "    <tr>\n",
       "      <th>6</th>\n",
       "      <td>Widget G</td>\n",
       "      <td>45</td>\n",
       "      <td>30.00</td>\n",
       "      <td>1350.0</td>\n",
       "      <td>2024-02-23</td>\n",
       "      <td>17:34:41</td>\n",
       "    </tr>\n",
       "  </tbody>\n",
       "</table>\n",
       "</div>"
      ],
      "text/plain": [
       "    product  quantity  price_per_unit  total_sales        Date Time Stamp\n",
       "0  Widget A       100           10.50       1050.0  2024-02-17   17:34:41\n",
       "1  Widget B        50           25.75       1287.5  2024-02-18   17:34:41\n",
       "2  Widget C        75           15.00       1125.0  2024-02-19   17:34:41\n",
       "3  Widget D        30           50.00       1500.0  2024-02-20   17:34:41\n",
       "4  Widget E        20           40.25        805.0  2024-02-21   17:34:41\n",
       "5  Widget F        60           18.99       1139.4  2024-02-22   17:34:41\n",
       "6  Widget G        45           30.00       1350.0  2024-02-23   17:34:41"
      ]
     },
     "execution_count": 383,
     "metadata": {},
     "output_type": "execute_result"
    }
   ],
   "source": [
    "df_new"
   ]
  },
  {
   "cell_type": "markdown",
   "metadata": {},
   "source": [
    "#### Adding a new file with same date but different time stamp\n",
    "\n"
   ]
  },
  {
   "cell_type": "code",
   "execution_count": 384,
   "metadata": {},
   "outputs": [],
   "source": [
    "current_date1 = dt.datetime.now()\n",
    "date_string = current_date1.strftime('%Y-%m-%d_%H-%M-%S')\n",
    "name = 'Sales_Data'+ '_' + date_string\n",
    "json =[ {\n",
    "    \"product\": \"Widget H\",\n",
    "    \"quantity\": 42,\n",
    "    \"price_per_unit\": 31.00,\n",
    "    \"total_sales\": 1250.00\n",
    "  }\n",
    "]\n",
    "filename = os.path.splitext(name)[0] + \".csv\"\n",
    "with open(os.path.join(filepath, filename), 'w', newline='') as f:\n",
    "    writer = csv.DictWriter(f, fieldnames=[\"product\", \"quantity\", \"price_per_unit\", \"total_sales\"])\n",
    "    writer.writeheader()\n",
    "    writer.writerow(json[0])\n",
    "\n"
   ]
  },
  {
   "cell_type": "code",
   "execution_count": 385,
   "metadata": {},
   "outputs": [
    {
     "data": {
      "text/html": [
       "<div>\n",
       "<style scoped>\n",
       "    .dataframe tbody tr th:only-of-type {\n",
       "        vertical-align: middle;\n",
       "    }\n",
       "\n",
       "    .dataframe tbody tr th {\n",
       "        vertical-align: top;\n",
       "    }\n",
       "\n",
       "    .dataframe thead th {\n",
       "        text-align: right;\n",
       "    }\n",
       "</style>\n",
       "<table border=\"1\" class=\"dataframe\">\n",
       "  <thead>\n",
       "    <tr style=\"text-align: right;\">\n",
       "      <th></th>\n",
       "      <th>product</th>\n",
       "      <th>quantity</th>\n",
       "      <th>price_per_unit</th>\n",
       "      <th>total_sales</th>\n",
       "      <th>Date</th>\n",
       "      <th>Time Stamp</th>\n",
       "    </tr>\n",
       "  </thead>\n",
       "  <tbody>\n",
       "    <tr>\n",
       "      <th>0</th>\n",
       "      <td>Widget B</td>\n",
       "      <td>50</td>\n",
       "      <td>25.75</td>\n",
       "      <td>1287.5</td>\n",
       "      <td>2024-02-18</td>\n",
       "      <td>17:34:41</td>\n",
       "    </tr>\n",
       "    <tr>\n",
       "      <th>1</th>\n",
       "      <td>Widget C</td>\n",
       "      <td>75</td>\n",
       "      <td>15.00</td>\n",
       "      <td>1125.0</td>\n",
       "      <td>2024-02-19</td>\n",
       "      <td>17:34:41</td>\n",
       "    </tr>\n",
       "    <tr>\n",
       "      <th>2</th>\n",
       "      <td>Widget D</td>\n",
       "      <td>30</td>\n",
       "      <td>50.00</td>\n",
       "      <td>1500.0</td>\n",
       "      <td>2024-02-20</td>\n",
       "      <td>17:34:41</td>\n",
       "    </tr>\n",
       "    <tr>\n",
       "      <th>3</th>\n",
       "      <td>Widget E</td>\n",
       "      <td>20</td>\n",
       "      <td>40.25</td>\n",
       "      <td>805.0</td>\n",
       "      <td>2024-02-21</td>\n",
       "      <td>17:34:41</td>\n",
       "    </tr>\n",
       "    <tr>\n",
       "      <th>4</th>\n",
       "      <td>Widget F</td>\n",
       "      <td>60</td>\n",
       "      <td>18.99</td>\n",
       "      <td>1139.4</td>\n",
       "      <td>2024-02-22</td>\n",
       "      <td>17:34:41</td>\n",
       "    </tr>\n",
       "    <tr>\n",
       "      <th>5</th>\n",
       "      <td>Widget G</td>\n",
       "      <td>45</td>\n",
       "      <td>30.00</td>\n",
       "      <td>1350.0</td>\n",
       "      <td>2024-02-23</td>\n",
       "      <td>17:34:41</td>\n",
       "    </tr>\n",
       "    <tr>\n",
       "      <th>6</th>\n",
       "      <td>Widget H</td>\n",
       "      <td>42</td>\n",
       "      <td>31.00</td>\n",
       "      <td>1250.0</td>\n",
       "      <td>2024-02-17</td>\n",
       "      <td>17:34:42</td>\n",
       "    </tr>\n",
       "  </tbody>\n",
       "</table>\n",
       "</div>"
      ],
      "text/plain": [
       "    product  quantity  price_per_unit  total_sales        Date Time Stamp\n",
       "0  Widget B        50           25.75       1287.5  2024-02-18   17:34:41\n",
       "1  Widget C        75           15.00       1125.0  2024-02-19   17:34:41\n",
       "2  Widget D        30           50.00       1500.0  2024-02-20   17:34:41\n",
       "3  Widget E        20           40.25        805.0  2024-02-21   17:34:41\n",
       "4  Widget F        60           18.99       1139.4  2024-02-22   17:34:41\n",
       "5  Widget G        45           30.00       1350.0  2024-02-23   17:34:41\n",
       "6  Widget H        42           31.00       1250.0  2024-02-17   17:34:42"
      ]
     },
     "execution_count": 385,
     "metadata": {},
     "output_type": "execute_result"
    }
   ],
   "source": [
    "into_table_modified(filepath,distinct,df_new)"
   ]
  },
  {
   "cell_type": "code",
   "execution_count": null,
   "metadata": {},
   "outputs": [],
   "source": []
  }
 ],
 "metadata": {
  "kernelspec": {
   "display_name": "Python 3",
   "language": "python",
   "name": "python3"
  },
  "language_info": {
   "codemirror_mode": {
    "name": "ipython",
    "version": 3
   },
   "file_extension": ".py",
   "mimetype": "text/x-python",
   "name": "python",
   "nbconvert_exporter": "python",
   "pygments_lexer": "ipython3",
   "version": "3.11.7"
  }
 },
 "nbformat": 4,
 "nbformat_minor": 2
}
