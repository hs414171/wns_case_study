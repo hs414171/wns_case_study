{
 "cells": [
  {
   "cell_type": "markdown",
   "metadata": {},
   "source": [
    "## Since the data is in json format we can use the pandas library to read the json"
   ]
  },
  {
   "cell_type": "code",
   "execution_count": 2,
   "metadata": {},
   "outputs": [],
   "source": [
    "import pandas as pd\n",
    "import json"
   ]
  },
  {
   "cell_type": "code",
   "execution_count": 3,
   "metadata": {},
   "outputs": [],
   "source": [
    "filepath = 'EmoplyeeDetails.txt'"
   ]
  },
  {
   "cell_type": "code",
   "execution_count": 4,
   "metadata": {},
   "outputs": [],
   "source": [
    "with open(filepath, 'r') as file:\n",
    "    json_data = file.read()\n",
    "    data = json.loads(json_data)"
   ]
  },
  {
   "cell_type": "code",
   "execution_count": 12,
   "metadata": {},
   "outputs": [
    {
     "data": {
      "text/plain": [
       "[{'name': 'John Doe',\n",
       "  'address': '123 Main St, Cityville, USA',\n",
       "  'mobile_numbers': ['123-456-7890', '987-654-3210'],\n",
       "  'date_of_birth': '1990-05-15'},\n",
       " {'name': 'Jane Smith',\n",
       "  'address': '456 Elm St, Townsville, USA',\n",
       "  'mobile_numbers': ['555-555-5555'],\n",
       "  'date_of_birth': '1985-10-25'},\n",
       " {'name': 'Alice Johnson',\n",
       "  'address': '789 Oak St, Villagetown, USA',\n",
       "  'mobile_numbers': ['111-222-3333', '444-555-6666', '777-888-9999'],\n",
       "  'date_of_birth': '1978-03-12'},\n",
       " {'name': 'Bob Brown',\n",
       "  'address': '987 Pine St, Hamletville, USA',\n",
       "  'mobile_numbers': [],\n",
       "  'date_of_birth': '1995-12-03'}]"
      ]
     },
     "execution_count": 12,
     "metadata": {},
     "output_type": "execute_result"
    }
   ],
   "source": [
    "data['people']"
   ]
  },
  {
   "cell_type": "code",
   "execution_count": 13,
   "metadata": {},
   "outputs": [],
   "source": [
    "df = pd.DataFrame(data['people'])\n",
    "df.rename(columns={'name': 'Name', 'address':'Address',\"mobile_numbers\":\"Mobile Numbers\",\"date_of_birth\":\"DOB\"}, inplace=True)"
   ]
  },
  {
   "cell_type": "code",
   "execution_count": 14,
   "metadata": {},
   "outputs": [
    {
     "data": {
      "text/html": [
       "<div>\n",
       "<style scoped>\n",
       "    .dataframe tbody tr th:only-of-type {\n",
       "        vertical-align: middle;\n",
       "    }\n",
       "\n",
       "    .dataframe tbody tr th {\n",
       "        vertical-align: top;\n",
       "    }\n",
       "\n",
       "    .dataframe thead th {\n",
       "        text-align: right;\n",
       "    }\n",
       "</style>\n",
       "<table border=\"1\" class=\"dataframe\">\n",
       "  <thead>\n",
       "    <tr style=\"text-align: right;\">\n",
       "      <th></th>\n",
       "      <th>Name</th>\n",
       "      <th>Address</th>\n",
       "      <th>Mobile Numbers</th>\n",
       "      <th>DOB</th>\n",
       "    </tr>\n",
       "  </thead>\n",
       "  <tbody>\n",
       "    <tr>\n",
       "      <th>0</th>\n",
       "      <td>John Doe</td>\n",
       "      <td>123 Main St, Cityville, USA</td>\n",
       "      <td>[123-456-7890, 987-654-3210]</td>\n",
       "      <td>1990-05-15</td>\n",
       "    </tr>\n",
       "    <tr>\n",
       "      <th>1</th>\n",
       "      <td>Jane Smith</td>\n",
       "      <td>456 Elm St, Townsville, USA</td>\n",
       "      <td>[555-555-5555]</td>\n",
       "      <td>1985-10-25</td>\n",
       "    </tr>\n",
       "    <tr>\n",
       "      <th>2</th>\n",
       "      <td>Alice Johnson</td>\n",
       "      <td>789 Oak St, Villagetown, USA</td>\n",
       "      <td>[111-222-3333, 444-555-6666, 777-888-9999]</td>\n",
       "      <td>1978-03-12</td>\n",
       "    </tr>\n",
       "    <tr>\n",
       "      <th>3</th>\n",
       "      <td>Bob Brown</td>\n",
       "      <td>987 Pine St, Hamletville, USA</td>\n",
       "      <td>[]</td>\n",
       "      <td>1995-12-03</td>\n",
       "    </tr>\n",
       "  </tbody>\n",
       "</table>\n",
       "</div>"
      ],
      "text/plain": [
       "            Name                        Address  \\\n",
       "0       John Doe    123 Main St, Cityville, USA   \n",
       "1     Jane Smith    456 Elm St, Townsville, USA   \n",
       "2  Alice Johnson   789 Oak St, Villagetown, USA   \n",
       "3      Bob Brown  987 Pine St, Hamletville, USA   \n",
       "\n",
       "                               Mobile Numbers         DOB  \n",
       "0                [123-456-7890, 987-654-3210]  1990-05-15  \n",
       "1                              [555-555-5555]  1985-10-25  \n",
       "2  [111-222-3333, 444-555-6666, 777-888-9999]  1978-03-12  \n",
       "3                                          []  1995-12-03  "
      ]
     },
     "execution_count": 14,
     "metadata": {},
     "output_type": "execute_result"
    }
   ],
   "source": [
    "df"
   ]
  },
  {
   "cell_type": "code",
   "execution_count": null,
   "metadata": {},
   "outputs": [],
   "source": []
  },
  {
   "cell_type": "code",
   "execution_count": null,
   "metadata": {},
   "outputs": [],
   "source": []
  },
  {
   "cell_type": "code",
   "execution_count": null,
   "metadata": {},
   "outputs": [],
   "source": []
  }
 ],
 "metadata": {
  "kernelspec": {
   "display_name": "Python 3",
   "language": "python",
   "name": "python3"
  },
  "language_info": {
   "codemirror_mode": {
    "name": "ipython",
    "version": 3
   },
   "file_extension": ".py",
   "mimetype": "text/x-python",
   "name": "python",
   "nbconvert_exporter": "python",
   "pygments_lexer": "ipython3",
   "version": "3.11.7"
  }
 },
 "nbformat": 4,
 "nbformat_minor": 2
}
